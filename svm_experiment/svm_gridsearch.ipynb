{
 "cells": [
  {
   "cell_type": "markdown",
   "metadata": {},
   "source": [
    "## Grid Search for Support Vector Machine Classifier"
   ]
  },
  {
   "cell_type": "markdown",
   "metadata": {},
   "source": [
    "#### Link to Readme section:    \n",
    "\n",
    "https://git.cs.vt.edu/sdeepti/facial-expression-recognition/-/blob/main/README.md#support-vector-machine-classifier-vs-final-trained-classifier"
   ]
  },
  {
   "cell_type": "markdown",
   "metadata": {},
   "source": [
    "#### Citations:\n",
    "\n",
    "- https://scikit-learn.org/stable/modules/generated/sklearn.svm.SVC.html\n",
    "- https://scikit-learn.org/stable/modules/svm.html"
   ]
  },
  {
   "cell_type": "markdown",
   "metadata": {},
   "source": [
    "**Motivation:** for the investigation of understanding how SVM model performs in comparison to our fine tuned CNN classifier, we wanted to perform gridsearch to find the best hyperparameters to use for our simple SVM model. However, since gridsearch on the entire training set took too long, we decided to perform gridsearch on a subset of our training dataset to find the best hyperparameters. "
   ]
  },
  {
   "cell_type": "markdown",
   "metadata": {},
   "source": [
    "#### 1. Initial Set-Up"
   ]
  },
  {
   "cell_type": "markdown",
   "metadata": {},
   "source": [
    "The code below adds all the imports neccesary for the code to run smoothly. Note that we are importing 'GridSearchCV' from 'sklearn.model_selection' to perform the gridsearch for our SVM model."
   ]
  },
  {
   "cell_type": "code",
   "execution_count": null,
   "metadata": {},
   "outputs": [],
   "source": [
    "import math\n",
    "import io\n",
    "\n",
    "import sklearn\n",
    "from sklearn.datasets import load_files\n",
    "from sklearn.svm import SVC\n",
    "from sklearn.model_selection import GridSearchCV\n",
    "from matplotlib.cbook import flatten\n",
    "from skimage.transform import resize\n",
    "from skimage.io import imread\n",
    "from sklearn.preprocessing import StandardScaler\n",
    "\n",
    "from sklearn.metrics import accuracy_score\n",
    "from sklearn.metrics import f1_score\n",
    "from sklearn.metrics import classification_report, confusion_matrix"
   ]
  },
  {
   "cell_type": "markdown",
   "metadata": {},
   "source": [
    "#### 2. Load and Preprocess"
   ]
  },
  {
   "cell_type": "markdown",
   "metadata": {},
   "source": [
    "Load the KDEF face images. The dataset being used for this experiment is the **KDEF Dataset** which can be found by clicking the following link:\n",
    "https://www.kdef.se/ ."
   ]
  },
  {
   "cell_type": "code",
   "execution_count": null,
   "metadata": {},
   "outputs": [],
   "source": [
    "# load KDEF face images\n",
    "dataset = load_files('face_images', shuffle=True)"
   ]
  },
  {
   "cell_type": "markdown",
   "metadata": {},
   "source": [
    "Now we perform some basic preprocessing steps such as resizing the images to 224x224X3 and then flatten the images. "
   ]
  },
  {
   "cell_type": "code",
   "execution_count": null,
   "metadata": {},
   "outputs": [],
   "source": [
    "# resize images to 224,224,3 for resnet\n",
    "# then flatten images\n",
    "flat_data_arr = []\n",
    "for i in dataset.data:\n",
    "  img_array = imread(io.BytesIO(i))\n",
    "  img_resized = resize(img_array, (224,224,3))\n",
    "  flat_data_arr.append(img_resized.flatten())"
   ]
  },
  {
   "cell_type": "markdown",
   "metadata": {},
   "source": [
    "#### 3. Define the Hyperparameter space to perform gridsearch"
   ]
  },
  {
   "cell_type": "code",
   "execution_count": null,
   "metadata": {},
   "outputs": [],
   "source": [
    "# parameters for gridsearchCV\n",
    "parameter_space = [\n",
    "    {\n",
    "        'C': [1, 10, 100],\n",
    "        'kernel': ['rbf', 'poly'],\n",
    "        'gamma': ['scale', 'auto']\n",
    "    },\n",
    "    {\n",
    "        'C': [1, 10, 100],\n",
    "        'kernel': ['linear']\n",
    "    }\n",
    "]"
   ]
  },
  {
   "cell_type": "markdown",
   "metadata": {},
   "source": [
    "#### 4. Split the Data"
   ]
  },
  {
   "cell_type": "markdown",
   "metadata": {},
   "source": [
    "Now we split our data into our training and validation set, using an 80/20 split. "
   ]
  },
  {
   "cell_type": "code",
   "execution_count": null,
   "metadata": {},
   "outputs": [],
   "source": [
    "split_idx = math.trunc((len(flat_data_arr)) * 0.8)\n",
    "\n",
    "ss = StandardScaler()\n",
    "X_train = ss.fit_transform(flat_data_arr[:split_idx])\n",
    "y_train = dataset.target[:split_idx]\n",
    "\n",
    "X_test = ss.transform(flat_data_arr[split_idx:])\n",
    "y_test = dataset.target[split_idx:]"
   ]
  },
  {
   "cell_type": "markdown",
   "metadata": {},
   "source": [
    "#### 5. Create SVM classifier and Apply Gridsearch"
   ]
  },
  {
   "cell_type": "code",
   "execution_count": null,
   "metadata": {},
   "outputs": [],
   "source": [
    "print('training...')\n",
    "model = SVC(random_state=0)\n",
    "grid_clf = GridSearchCV(model, parameter_space, cv=10, n_jobs=1, verbose=3)\n",
    "\n",
    "grid_clf.fit(X_train, y_train)\n",
    "print('done training')"
   ]
  },
  {
   "cell_type": "markdown",
   "metadata": {},
   "source": [
    "#### 6. Find the best hyperparameters yielded from gridsearch"
   ]
  },
  {
   "cell_type": "code",
   "execution_count": null,
   "metadata": {},
   "outputs": [],
   "source": [
    "# show best results\n",
    "print('Best parameters found from gridsearchCV:')\n",
    "print(grid_clf.best_params_)"
   ]
  },
  {
   "cell_type": "markdown",
   "metadata": {},
   "source": [
    "#### 7. Evaluate the Model and Compute Metrics"
   ]
  },
  {
   "cell_type": "code",
   "execution_count": null,
   "metadata": {},
   "outputs": [],
   "source": [
    "# predict on test set\n",
    "y_pred = grid_clf.predict(X_test)\n",
    "\n",
    "# compute accuracy\n",
    "print('Model accuracy:', accuracy_score(y_test, y_pred))\n",
    "\n",
    "# compute f1 score\n",
    "f1 = f1_score(y_test, y_pred, average='weighted')\n",
    "print('F1 score:', f1)\n",
    "\n",
    "print('confusion matrix:')\n",
    "print(confusion_matrix(y_test, y_pred))\n",
    "\n",
    "print('classification report:')\n",
    "print(classification_report(y_test, y_pred))"
   ]
  },
  {
   "cell_type": "markdown",
   "metadata": {},
   "source": [
    "<div>\n",
    "<img src= \"https://git.cs.vt.edu/sdeepti/facial-expression-recognition/-/raw/e95318dde059ffdb369ad6051b225932dcec0edb/Images/svm-results.png\"/>\n",
    "</div>"
   ]
  }
 ],
 "metadata": {
  "language_info": {
   "name": "python"
  },
  "orig_nbformat": 4
 },
 "nbformat": 4,
 "nbformat_minor": 2
}
