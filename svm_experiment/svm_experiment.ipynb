{
 "cells": [
  {
   "cell_type": "markdown",
   "metadata": {},
   "source": [
    "## Support Vector Machine Classifier vs Final Trained Classifier"
   ]
  },
  {
   "cell_type": "markdown",
   "metadata": {},
   "source": [
    "#### Link to Readme section:    \n",
    "\n",
    "https://git.cs.vt.edu/sdeepti/facial-expression-recognition/-/blob/main/README.md#support-vector-machine-classifier-vs-final-trained-classifier"
   ]
  },
  {
   "cell_type": "markdown",
   "metadata": {},
   "source": [
    "#### Citations:\n",
    "\n",
    "- https://scikit-learn.org/stable/modules/generated/sklearn.svm.SVC.html\n",
    "- https://scikit-learn.org/stable/modules/svm.html"
   ]
  },
  {
   "cell_type": "markdown",
   "metadata": {},
   "source": [
    "**Motivation:** Investigate how a simple SVM model (our non-deep-learning baseline) performs compared to our fine tuned CNN classifier. We want to show that a simple ML model will not be as accurate for our task. An SVM model will not be as comparable for the task of accurately classifying emotions."
   ]
  },
  {
   "cell_type": "markdown",
   "metadata": {},
   "source": [
    "#### 1. Initial Set-Up"
   ]
  },
  {
   "cell_type": "markdown",
   "metadata": {},
   "source": [
    "This adds all the imports that are necessary for the code to run smoothly. Note that we import 'sklearn.svm' and 'sklearn.datasets' to utilize the load_files. We import 'SVC' from 'sklearn.svm' since it is a class that is capable of performing multi-class classification on a dataset."
   ]
  },
  {
   "cell_type": "code",
   "execution_count": null,
   "metadata": {},
   "outputs": [],
   "source": [
    "import math\n",
    "import io\n",
    "\n",
    "import sklearn\n",
    "from sklearn.datasets import load_files\n",
    "from sklearn.svm import SVC\n",
    "from matplotlib.cbook import flatten\n",
    "from skimage.transform import resize\n",
    "from skimage.io import imread\n",
    "from sklearn.preprocessing import StandardScaler\n",
    "\n",
    "from sklearn.metrics import accuracy_score\n",
    "from sklearn.metrics import f1_score\n",
    "from sklearn.metrics import classification_report, confusion_matrix"
   ]
  },
  {
   "cell_type": "markdown",
   "metadata": {},
   "source": [
    "#### 2. Load and Preprocess"
   ]
  },
  {
   "cell_type": "markdown",
   "metadata": {},
   "source": [
    "Load the KDEF face images. The dataset being used for this experiment is the **KDEF Dataset** which can be found by clicking the following link:\n",
    "https://www.kdef.se/ ."
   ]
  },
  {
   "cell_type": "code",
   "execution_count": null,
   "metadata": {},
   "outputs": [],
   "source": [
    "# load KDEF face images\n",
    "dataset = load_files('../face_images', shuffle=True)"
   ]
  },
  {
   "cell_type": "markdown",
   "metadata": {},
   "source": [
    "Now we perform some basic preprocessing steps such as resizing the images to 224x224X3 and then flatten the images. "
   ]
  },
  {
   "cell_type": "code",
   "execution_count": null,
   "metadata": {},
   "outputs": [],
   "source": [
    "# resize images to 224,224,3 for resnet\n",
    "# then flatten images\n",
    "flat_data_arr = []\n",
    "for i in dataset.data:\n",
    "  img_array = imread(io.BytesIO(i))\n",
    "  img_resized = resize(img_array, (224,224,3))\n",
    "  flat_data_arr.append(img_resized.flatten())"
   ]
  },
  {
   "cell_type": "markdown",
   "metadata": {},
   "source": [
    "#### 3. Split the Data"
   ]
  },
  {
   "cell_type": "markdown",
   "metadata": {},
   "source": [
    "Now we split our data into our training and validation set, using an 80/20 split. "
   ]
  },
  {
   "cell_type": "code",
   "execution_count": null,
   "metadata": {},
   "outputs": [],
   "source": [
    "# split data 80/20 train/val\n",
    "split_idx = math.trunc((len(flat_data_arr)) * 0.8)\n",
    "\n",
    "ss = StandardScaler()\n",
    "X_train = ss.fit_transform(flat_data_arr[:split_idx])\n",
    "y_train = dataset.target[:split_idx]\n",
    "\n",
    "X_test = ss.transform(flat_data_arr[split_idx:])\n",
    "y_test = dataset.target[split_idx:]"
   ]
  },
  {
   "cell_type": "markdown",
   "metadata": {},
   "source": [
    "#### 4. Create the SVM Classifier and Apply Grid Search"
   ]
  },
  {
   "cell_type": "markdown",
   "metadata": {},
   "source": [
    "Now we create the SVM classifier model, and train the model using SVC. Since performing gridsearch on our entire training set took too long, we decided to perform gridsearch on a smaller subset of our training set to find the best hyperparameters which we then use to train our model on the entire training set, as seen below.\n",
    "\n",
    "The code for the gridsearch can be found here: https://git.cs.vt.edu/sdeepti/facial-expression-recognition/-/blob/main/svm_experiment/svm_gridsearch.py"
   ]
  },
  {
   "cell_type": "code",
   "execution_count": null,
   "metadata": {},
   "outputs": [],
   "source": [
    "# create SVM classifier and apply gridsearch\n",
    "print('training...')\n",
    "\n",
    "model = SVC(C=100, kernel='rbf', gamma ='auto', random_state=0)\n",
    "model.fit(X_train, y_train)\n",
    "\n",
    "print('done training')"
   ]
  },
  {
   "cell_type": "markdown",
   "metadata": {},
   "source": [
    "#### 5. Evaluate the Model and Compute Metrics"
   ]
  },
  {
   "cell_type": "code",
   "execution_count": null,
   "metadata": {},
   "outputs": [],
   "source": [
    "# predict on test set\n",
    "y_pred = model.predict(X_test)\n",
    "\n",
    "# compute accuracy\n",
    "print('Model accuracy:', accuracy_score(y_test, y_pred))\n",
    "\n",
    "# compute f1 score\n",
    "f1 = f1_score(y_test, y_pred, average='weighted')\n",
    "print('F1 score:', f1)\n",
    "\n",
    "print('confusion matrix:')\n",
    "print(confusion_matrix(y_test, y_pred))\n",
    "\n",
    "print('classification report:')\n",
    "print(classification_report(y_test, y_pred))"
   ]
  },
  {
   "cell_type": "markdown",
   "metadata": {},
   "source": [
    "<div>\n",
    "<img src= \"https://git.cs.vt.edu/sdeepti/facial-expression-recognition/-/raw/e95318dde059ffdb369ad6051b225932dcec0edb/Images/svm-results.png\"/>\n",
    "</div>"
   ]
  }
 ],
 "metadata": {
  "interpreter": {
   "hash": "0cb4e4f248904f6ecbffe6d340b9c348da43b8aab1180ec492e6a4786161b0f7"
  },
  "kernelspec": {
   "display_name": "Python 3.10.4 64-bit (windows store)",
   "language": "python",
   "name": "python3"
  },
  "language_info": {
   "name": "python",
   "version": "3.10.4"
  },
  "orig_nbformat": 4
 },
 "nbformat": 4,
 "nbformat_minor": 2
}
